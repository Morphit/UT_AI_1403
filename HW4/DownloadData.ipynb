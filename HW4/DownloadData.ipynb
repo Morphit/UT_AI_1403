{
 "cells": [
  {
   "cell_type": "code",
   "execution_count": null,
   "id": "62c800b6-d3cb-4b5f-a145-ff3735638da8",
   "metadata": {},
   "outputs": [],
   "source": [
    "import os\n",
    "import urllib.request\n",
    "import zipfile\n",
    "\n",
    "data_folder = os.path.join(os.path.expanduser(\"~\"), \"Emo-DB\")\n",
    "\n",
    "if not os.path.exists(data_folder):\n",
    "    url = \"http://emodb.bilderbar.info/download/download.zip\"\n",
    "    zip_path = os.path.join(data_folder, \"download.zip\")\n",
    "    os.makedirs(data_folder, exist_ok=True)\n",
    "    print(\"Downloading Emo-DB (40.5 MB) ...\")\n",
    "    urllib.request.urlretrieve(url, zip_path)\n",
    "    with zipfile.ZipFile(zip_path, 'r') as zip_ref:\n",
    "        zip_ref.extractall(data_folder)"
   ]
  }
 ],
 "metadata": {
  "kernelspec": {
   "display_name": "Python 3 (ipykernel)",
   "language": "python",
   "name": "python3"
  },
  "language_info": {
   "codemirror_mode": {
    "name": "ipython",
    "version": 3
   },
   "file_extension": ".py",
   "mimetype": "text/x-python",
   "name": "python",
   "nbconvert_exporter": "python",
   "pygments_lexer": "ipython3",
   "version": "3.11.7"
  }
 },
 "nbformat": 4,
 "nbformat_minor": 5
}
