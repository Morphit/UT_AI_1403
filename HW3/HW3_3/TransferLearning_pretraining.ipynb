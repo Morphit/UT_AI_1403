{
 "cells": [
  {
   "cell_type": "code",
   "execution_count": 1,
   "id": "932dcaff-fa59-43dd-afda-f79a5ed36491",
   "metadata": {},
   "outputs": [],
   "source": [
    "import tensorflow as tf\n",
    "import matplotlib.pyplot as plt\n",
    "import pandas as pd\n",
    "import numpy as np\n",
    "from tensorflow.keras.applications import ResNet50\n",
    "from tensorflow.keras import models, layers\n",
    "from tensorflow.keras.layers import Dense, GlobalAveragePooling2D\n",
    "from tensorflow.keras.optimizers import Adam\n",
    "from tensorflow.keras.utils import to_categorical"
   ]
  },
  {
   "cell_type": "code",
   "execution_count": 2,
   "id": "597e67e0-1b39-47ba-b20f-e2444f526457",
   "metadata": {},
   "outputs": [],
   "source": [
    "df = pd.read_csv('emnist-balanced-train.csv')"
   ]
  },
  {
   "cell_type": "code",
   "execution_count": 3,
   "id": "d26a1a04-ecd6-46b4-a216-0c8114bc026c",
   "metadata": {},
   "outputs": [
    {
     "data": {
      "text/plain": [
       "((10000, 784), (10000,))"
      ]
     },
     "execution_count": 3,
     "metadata": {},
     "output_type": "execute_result"
    }
   ],
   "source": [
    "X = df.iloc[:10000, 1:].values\n",
    "y = df.iloc[:10000, 0].values\n",
    "X.shape ,y.shape"
   ]
  },
  {
   "cell_type": "code",
   "execution_count": 4,
   "id": "74ce216e-e1dc-4724-b3cb-71e4a0018cd6",
   "metadata": {},
   "outputs": [
    {
     "data": {
      "text/plain": [
       "((8000, 28, 28, 1), (8000, 48))"
      ]
     },
     "execution_count": 4,
     "metadata": {},
     "output_type": "execute_result"
    }
   ],
   "source": [
    "from sklearn.model_selection import train_test_split\n",
    "\n",
    "num_classes = len(np.unique(y))\n",
    "\n",
    "X_train, X_val, y_train, y_val = train_test_split(X, y, test_size=0.2, random_state=42)\n",
    "\n",
    "#X_train = X_train.astype('float32') / 255.0\n",
    "#X_val = X_val.astype('float32') / 255.0\n",
    "\n",
    "X_train = X_train.reshape((-1, 28, 28, 1)).astype('uint8')\n",
    "X_val = X_val.reshape((-1, 28, 28, 1)).astype('uint8')\n",
    "\n",
    "# one-hot encoding\n",
    "y_train = tf.keras.utils.to_categorical(y_train, num_classes+1)\n",
    "y_val = tf.keras.utils.to_categorical(y_val, num_classes+1)\n",
    "\n",
    "X_train.shape ,y_train.shape"
   ]
  },
  {
   "cell_type": "code",
   "execution_count": 5,
   "id": "a94e4c98-784d-4ea4-948b-352858147012",
   "metadata": {},
   "outputs": [],
   "source": [
    "from tensorflow.keras.preprocessing.image import load_img, img_to_array, array_to_img\n",
    "\n",
    "def resize(image):\n",
    "    img = array_to_img(image, scale=False)\n",
    "    img = img.resize((32, 32))\n",
    "    img = img.convert(mode='RGB')\n",
    "    arr = img_to_array(img)\n",
    "    return arr.astype(np.float64)"
   ]
  },
  {
   "cell_type": "code",
   "execution_count": 6,
   "id": "c96ee7b9-7b13-45eb-8260-713f88012767",
   "metadata": {},
   "outputs": [
    {
     "data": {
      "text/plain": [
       "(8000, 32, 32, 3)"
      ]
     },
     "execution_count": 6,
     "metadata": {},
     "output_type": "execute_result"
    }
   ],
   "source": [
    "X_train_resized = [resize(img) for img in X_train]\n",
    "X_train_resized = np.array(X_train_resized)\n",
    "X_train_resized.shape"
   ]
  },
  {
   "cell_type": "code",
   "execution_count": 7,
   "id": "5b6d628c-aa56-4d04-acda-19a0cc6a84f1",
   "metadata": {},
   "outputs": [],
   "source": [
    "from tensorflow.keras.preprocessing.image import ImageDataGenerator\n",
    "\n",
    "\n",
    "image_gen = ImageDataGenerator(rescale=1./255, validation_split=0.2)\n",
    "train_generator = image_gen.flow(X_train_resized, y_train, batch_size=32, shuffle=True, subset='training')\n",
    "\n",
    "valid_generator = image_gen.flow(X_train_resized, y_train, batch_size=32, shuffle=True, subset='validation')"
   ]
  },
  {
   "cell_type": "code",
   "execution_count": 8,
   "id": "6d1a51cc-235e-4658-8831-d4e62b60f0d4",
   "metadata": {},
   "outputs": [
    {
     "name": "stdout",
     "output_type": "stream",
     "text": [
      "(32, 32, 32, 3)\n",
      "(32, 48)\n"
     ]
    },
    {
     "data": {
      "text/plain": [
       "<matplotlib.image.AxesImage at 0x20469a4de50>"
      ]
     },
     "execution_count": 8,
     "metadata": {},
     "output_type": "execute_result"
    },
    {
     "data": {
      "image/png": "[encoded data removed]",
      "text/plain": [
       "<Figure size 640x480 with 1 Axes>"
      ]
     },
     "metadata": {},
     "output_type": "display_data"
    }
   ],
   "source": [
    "a, b = train_generator[0]\n",
    "print(a.shape)\n",
    "print(b.shape)\n",
    "plt.imshow(a[0])"
   ]
  },
  {
   "cell_type": "code",
   "execution_count": 26,
   "id": "11de736a-7848-4c5c-a492-7cad60b580b2",
   "metadata": {},
   "outputs": [],
   "source": [
    "from tensorflow.keras.applications.resnet50 import ResNet50\n",
    "model = models.Sequential()\n",
    "\n",
    "model.add(ResNet50(input_shape = (32, 32, 3), include_top = False, pooling = 'avg', weights = None))\n",
    "model.add(layers.Flatten())\n",
    "model.add(Dense(48, activation = 'softmax'))"
   ]
  },
  {
   "cell_type": "code",
   "execution_count": 27,
   "id": "1b68238a-aefc-43ed-afc3-9ba1e58e2bf0",
   "metadata": {},
   "outputs": [],
   "source": [
    "model.compile(optimizer=Adam(learning_rate=5e-4), loss='categorical_crossentropy', metrics=['accuracy'])"
   ]
  },
  {
   "cell_type": "code",
   "execution_count": 28,
   "id": "e04025d0-c50a-4446-8c41-c559dc1b9c3c",
   "metadata": {},
   "outputs": [
    {
     "name": "stdout",
     "output_type": "stream",
     "text": [
      "Epoch 1/20\n",
      "\u001b[1m200/200\u001b[0m \u001b[32m━━━━━━━━━━━━━━━━━━━━\u001b[0m\u001b[37m\u001b[0m \u001b[1m228s\u001b[0m 763ms/step - accuracy: 0.1337 - loss: 4.6358 - val_accuracy: 0.0306 - val_loss: 4.7925\n",
      "Epoch 2/20\n",
      "\u001b[1m200/200\u001b[0m \u001b[32m━━━━━━━━━━━━━━━━━━━━\u001b[0m\u001b[37m\u001b[0m \u001b[1m141s\u001b[0m 703ms/step - accuracy: 0.5426 - loss: 1.6854 - val_accuracy: 0.1956 - val_loss: 3.3087\n",
      "Epoch 3/20\n",
      "\u001b[1m200/200\u001b[0m \u001b[32m━━━━━━━━━━━━━━━━━━━━\u001b[0m\u001b[37m\u001b[0m \u001b[1m141s\u001b[0m 705ms/step - accuracy: 0.6945 - loss: 1.0792 - val_accuracy: 0.4606 - val_loss: 2.6358\n",
      "Epoch 4/20\n",
      "\u001b[1m200/200\u001b[0m \u001b[32m━━━━━━━━━━━━━━━━━━━━\u001b[0m\u001b[37m\u001b[0m \u001b[1m147s\u001b[0m 737ms/step - accuracy: 0.7664 - loss: 0.8026 - val_accuracy: 0.6075 - val_loss: 1.6375\n",
      "Epoch 5/20\n",
      "\u001b[1m200/200\u001b[0m \u001b[32m━━━━━━━━━━━━━━━━━━━━\u001b[0m\u001b[37m\u001b[0m \u001b[1m145s\u001b[0m 726ms/step - accuracy: 0.7911 - loss: 0.7184 - val_accuracy: 0.5919 - val_loss: 2.5630\n",
      "Epoch 6/20\n",
      "\u001b[1m200/200\u001b[0m \u001b[32m━━━━━━━━━━━━━━━━━━━━\u001b[0m\u001b[37m\u001b[0m \u001b[1m144s\u001b[0m 722ms/step - accuracy: 0.8191 - loss: 0.6162 - val_accuracy: 0.6444 - val_loss: 1.6427\n",
      "Epoch 7/20\n",
      "\u001b[1m200/200\u001b[0m \u001b[32m━━━━━━━━━━━━━━━━━━━━\u001b[0m\u001b[37m\u001b[0m \u001b[1m144s\u001b[0m 721ms/step - accuracy: 0.8438 - loss: 0.4889 - val_accuracy: 0.6581 - val_loss: 1.5343\n",
      "Epoch 8/20\n",
      "\u001b[1m200/200\u001b[0m \u001b[32m━━━━━━━━━━━━━━━━━━━━\u001b[0m\u001b[37m\u001b[0m \u001b[1m145s\u001b[0m 724ms/step - accuracy: 0.8253 - loss: 0.6145 - val_accuracy: 0.6406 - val_loss: 2.2713\n",
      "Epoch 9/20\n",
      "\u001b[1m200/200\u001b[0m \u001b[32m━━━━━━━━━━━━━━━━━━━━\u001b[0m\u001b[37m\u001b[0m \u001b[1m143s\u001b[0m 714ms/step - accuracy: 0.8514 - loss: 0.4973 - val_accuracy: 0.6637 - val_loss: 1.2804\n",
      "Epoch 10/20\n",
      "\u001b[1m200/200\u001b[0m \u001b[32m━━━━━━━━━━━━━━━━━━━━\u001b[0m\u001b[37m\u001b[0m \u001b[1m140s\u001b[0m 701ms/step - accuracy: 0.8646 - loss: 0.4297 - val_accuracy: 0.6850 - val_loss: 1.2988\n",
      "Epoch 11/20\n",
      "\u001b[1m200/200\u001b[0m \u001b[32m━━━━━━━━━━━━━━━━━━━━\u001b[0m\u001b[37m\u001b[0m \u001b[1m140s\u001b[0m 699ms/step - accuracy: 0.8762 - loss: 0.3726 - val_accuracy: 0.7200 - val_loss: 1.0287\n",
      "Epoch 12/20\n",
      "\u001b[1m200/200\u001b[0m \u001b[32m━━━━━━━━━━━━━━━━━━━━\u001b[0m\u001b[37m\u001b[0m \u001b[1m140s\u001b[0m 702ms/step - accuracy: 0.8805 - loss: 0.4060 - val_accuracy: 0.4162 - val_loss: 3.0155\n",
      "Epoch 13/20\n",
      "\u001b[1m200/200\u001b[0m \u001b[32m━━━━━━━━━━━━━━━━━━━━\u001b[0m\u001b[37m\u001b[0m \u001b[1m139s\u001b[0m 697ms/step - accuracy: 0.7740 - loss: 0.8848 - val_accuracy: 0.6681 - val_loss: 1.2622\n",
      "Epoch 14/20\n",
      "\u001b[1m200/200\u001b[0m \u001b[32m━━━━━━━━━━━━━━━━━━━━\u001b[0m\u001b[37m\u001b[0m \u001b[1m138s\u001b[0m 692ms/step - accuracy: 0.8491 - loss: 0.5259 - val_accuracy: 0.7406 - val_loss: 1.0357\n",
      "Epoch 15/20\n",
      "\u001b[1m200/200\u001b[0m \u001b[32m━━━━━━━━━━━━━━━━━━━━\u001b[0m\u001b[37m\u001b[0m \u001b[1m139s\u001b[0m 694ms/step - accuracy: 0.8613 - loss: 0.4859 - val_accuracy: 0.6344 - val_loss: 2.4382\n",
      "Epoch 16/20\n",
      "\u001b[1m200/200\u001b[0m \u001b[32m━━━━━━━━━━━━━━━━━━━━\u001b[0m\u001b[37m\u001b[0m \u001b[1m139s\u001b[0m 693ms/step - accuracy: 0.8420 - loss: 0.4772 - val_accuracy: 0.7281 - val_loss: 1.1296\n",
      "Epoch 17/20\n",
      "\u001b[1m200/200\u001b[0m \u001b[32m━━━━━━━━━━━━━━━━━━━━\u001b[0m\u001b[37m\u001b[0m \u001b[1m139s\u001b[0m 694ms/step - accuracy: 0.8579 - loss: 0.4616 - val_accuracy: 0.7031 - val_loss: 1.2619\n",
      "Epoch 18/20\n",
      "\u001b[1m200/200\u001b[0m \u001b[32m━━━━━━━━━━━━━━━━━━━━\u001b[0m\u001b[37m\u001b[0m \u001b[1m139s\u001b[0m 695ms/step - accuracy: 0.7863 - loss: 0.8278 - val_accuracy: 0.7306 - val_loss: 1.5419\n",
      "Epoch 19/20\n",
      "\u001b[1m200/200\u001b[0m \u001b[32m━━━━━━━━━━━━━━━━━━━━\u001b[0m\u001b[37m\u001b[0m \u001b[1m139s\u001b[0m 695ms/step - accuracy: 0.8516 - loss: 0.4638 - val_accuracy: 0.8044 - val_loss: 0.7276\n",
      "Epoch 20/20\n",
      "\u001b[1m200/200\u001b[0m \u001b[32m━━━━━━━━━━━━━━━━━━━━\u001b[0m\u001b[37m\u001b[0m \u001b[1m139s\u001b[0m 693ms/step - accuracy: 0.9046 - loss: 0.2528 - val_accuracy: 0.6875 - val_loss: 1.3555\n"
     ]
    },
    {
     "data": {
      "text/plain": [
       "<keras.src.callbacks.history.History at 0x204be0e32d0>"
      ]
     },
     "execution_count": 28,
     "metadata": {},
     "output_type": "execute_result"
    }
   ],
   "source": [
    "model.fit(train_generator,epochs=20,validation_data=valid_generator)"
   ]
  },
  {
   "cell_type": "code",
   "execution_count": 12,
   "id": "4e162aa7-f26b-44a5-aa7c-77a4e46673c1",
   "metadata": {},
   "outputs": [
    {
     "name": "stderr",
     "output_type": "stream",
     "text": [
      "WARNING:absl:You are saving your model as an HDF5 file via `model.save()` or `keras.saving.save_model(model)`. This file format is considered legacy. We recommend using instead the native Keras format, e.g. `model.save('my_model.keras')` or `keras.saving.save_model(model, 'my_model.keras')`. \n"
     ]
    }
   ],
   "source": [
    "model.save('PreTrainedResNet50.h5')\n",
    "model.save('PreTrainedResNet50.keras')\n",
    "model.save_weights('PreTrainedResNet50.weights.h5')"
   ]
  },
  {
   "cell_type": "code",
   "execution_count": null,
   "id": "57109ab9-727a-4333-bc64-37613d13c905",
   "metadata": {},
   "outputs": [],
   "source": []
  }
 ],
 "metadata": {
  "kernelspec": {
   "display_name": "Python 3 (ipykernel)",
   "language": "python",
   "name": "python3"
  },
  "language_info": {
   "codemirror_mode": {
    "name": "ipython",
    "version": 3
   },
   "file_extension": ".py",
   "mimetype": "text/x-python",
   "name": "python",
   "nbconvert_exporter": "python",
   "pygments_lexer": "ipython3",
   "version": "3.11.7"
  }
 },
 "nbformat": 4,
 "nbformat_minor": 5
}
